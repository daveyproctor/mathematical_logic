{
 "cells": [
  {
   "cell_type": "raw",
   "id": "292c00af",
   "metadata": {},
   "source": [
    "P. 41 of Enderton \"An algorithm\" for parsing well formed formulas"
   ]
  },
  {
   "cell_type": "code",
   "execution_count": 1,
   "id": "26066221",
   "metadata": {},
   "outputs": [],
   "source": [
    "from collections import namedtuple\n",
    "ParseTree = namedtuple(\"ParseTree\", \"logic_symbol left_child right_child\")\n",
    "# t1 = ParseTree(\"not\", ParseTree(\"and\", \"A1\", \"A2\"), None)\n",
    "# isinstance(t1, ParseTree) => True\n",
    "# isinstance(t1.left_child.left_child, str) => True # A1, sentence symbols, are strings\n",
    "\n",
    "logic_symbols = [\"implies\", \"iff\", \"and\", \"or\", \"not\"]\n",
    "parentheses = [\"(\", \")\"]\n",
    "\n",
    "def tokenize(exp):\n",
    "    \"\"\"\n",
    "    Returns the tokens of an expression\n",
    "    \"\"\"\n",
    "    return exp.split()\n",
    "\n",
    "def parse_aux(exp):\n",
    "    if len(exp) == 0:\n",
    "        # for example, [\"(\", \"not\", \")\"][2:-1] => []\n",
    "        # also, [\"(\", \"not\"][2:-1] => []\n",
    "        return False\n",
    "    if len(exp) == 1:\n",
    "        if exp[0] in logic_symbols + parentheses:\n",
    "            return False # parse error, should be a sentence symbol\n",
    "        return exp[0] # sentence symbol as string\n",
    "    # the first symbol must be (.\n",
    "    if exp[0] != \"(\":\n",
    "        return False\n",
    "    if len(exp) >= 1 and exp[1] == \"not\":\n",
    "        left_child = parse_aux(exp[2:-1])\n",
    "        if not left_child:\n",
    "            return False\n",
    "        return ParseTree(\"not\", left_child, None)\n",
    "    count_left_paren, count_right_paren = 0, 0\n",
    "    for i, token in enumerate(exp[1:]):\n",
    "        if (token == \"(\"):\n",
    "            count_left_paren += 1\n",
    "        if (token == \")\"):\n",
    "            count_right_paren += 1\n",
    "        # scan the expression from the left until first reaching (alpha \n",
    "        # where alpha is an expression having a balance between left and right parentheses\n",
    "        if count_left_paren == count_right_paren:\n",
    "            alpha = exp[1:i+2]\n",
    "            # next symbol should exist and should be a logic symbol\n",
    "            if len(exp) < i+3:\n",
    "                return False\n",
    "            # the next symbol must be a logic symbol and is the prinipal connective\n",
    "            logic_symbol = exp[i+2]\n",
    "            if logic_symbol not in logic_symbols:\n",
    "                return False\n",
    "            # the remainder of the expression, beta) must consist of an expression beta and a right parenthesis\n",
    "            if exp[-1] != \")\":\n",
    "                return False\n",
    "            beta = exp[i+3:-1]\n",
    "            left_child = parse_aux(alpha)\n",
    "            right_child = parse_aux(beta)\n",
    "            if not right_child or not left_child:\n",
    "                return False\n",
    "            return ParseTree(logic_symbol, left_child, right_child)\n",
    "    # if the end of the expression is reached before finding such an alpha, then the original expression\n",
    "    # is not a wff.\n",
    "    return False\n",
    "\n",
    "def parse(exp):\n",
    "    \"\"\"\n",
    "    Enderton pg. 41 \"An algorithm\"\n",
    "    if exp is a wff, returns the parse tree\n",
    "    if not, returns False\n",
    "    \"\"\"\n",
    "    return parse_aux(tokenize(exp))"
   ]
  },
  {
   "cell_type": "code",
   "execution_count": 2,
   "id": "27556f78",
   "metadata": {
    "scrolled": true
   },
   "outputs": [
    {
     "name": "stdout",
     "output_type": "stream",
     "text": [
      "ParseTree(logic_symbol='and', left_child='A', right_child='B')\n",
      "ParseTree(logic_symbol='implies', left_child=ParseTree(logic_symbol='and', left_child='A', right_child='B'), right_child=ParseTree(logic_symbol='or', left_child='C', right_child=ParseTree(logic_symbol='not', left_child='D', right_child=None)))\n",
      "ParseTree(logic_symbol='not', left_child='A', right_child=None)\n",
      "False\n",
      "False\n",
      "ParseTree(logic_symbol='and', left_child='a', right_child='b')\n",
      "False\n"
     ]
    }
   ],
   "source": [
    "print(parse(\"( A and B )\"))\n",
    "\n",
    "print(parse(\"( ( A and B ) implies ( C or ( not D ) ) )\"))\n",
    "\n",
    "print(parse(\"( not A )\"))\n",
    "\n",
    "print(parse(\"\"))\n",
    "\n",
    "print(parse(\"(\"))\n",
    "\n",
    "print(parse(\"( a and b )\"))\n",
    "\n",
    "print(parse(\"(a and b)\"))"
   ]
  },
  {
   "cell_type": "raw",
   "id": "59165737",
   "metadata": {},
   "source": [
    "P. 42 Enderton - Polish Notation"
   ]
  },
  {
   "cell_type": "code",
   "execution_count": 3,
   "id": "3007eb5c",
   "metadata": {},
   "outputs": [],
   "source": [
    "def polish_notation_aux(exp):\n",
    "    \"\"\"\n",
    "    pre order tree traversal\n",
    "    \"\"\"\n",
    "    if exp is None:\n",
    "        # case of 'not'\n",
    "        return \"\"\n",
    "    if isinstance(exp, str):\n",
    "        return exp\n",
    "    return exp.logic_symbol + \" \" + polish_notation_aux(exp.left_child) + \" \" + polish_notation_aux(exp.right_child)\n",
    "    \n",
    "def polish_notation(exp):\n",
    "    parse_exp = parse(exp)\n",
    "    if not parse_exp:\n",
    "        return False\n",
    "    return polish_notation_aux(parse_exp)"
   ]
  },
  {
   "cell_type": "code",
   "execution_count": 4,
   "id": "fd15c492",
   "metadata": {},
   "outputs": [
    {
     "data": {
      "text/plain": [
       "'implies and A B or C not D '"
      ]
     },
     "execution_count": 4,
     "metadata": {},
     "output_type": "execute_result"
    }
   ],
   "source": [
    "polish_notation(\"( ( A and B ) implies ( C or ( not D ) ) )\")"
   ]
  },
  {
   "cell_type": "raw",
   "id": "77950c17",
   "metadata": {},
   "source": [
    "P. 33 Enderton related to \"satisfies\""
   ]
  },
  {
   "cell_type": "code",
   "execution_count": 5,
   "id": "44d908ac",
   "metadata": {},
   "outputs": [],
   "source": [
    "def evaluate_aux(exp, sentence_symbol_map):\n",
    "    if exp is None:\n",
    "        return None\n",
    "    if isinstance(exp, str):\n",
    "        if exp not in sentence_symbol_map:\n",
    "            return False\n",
    "        return sentence_symbol_map[exp]\n",
    "    eval_left = evaluate_aux(exp.left_child, sentence_symbol_map)\n",
    "    eval_right = evaluate_aux(exp.right_child, sentence_symbol_map)\n",
    "    if exp.logic_symbol == \"not\":\n",
    "        return not eval_left\n",
    "    if exp.logic_symbol == \"and\":\n",
    "        return eval_left and eval_right\n",
    "    if exp.logic_symbol == \"or\":\n",
    "        return eval_left or eval_right\n",
    "    if exp.logic_symbol == \"implies\":\n",
    "        return not eval_left or eval_right\n",
    "    if exp.logic_symbol == \"iff\":\n",
    "        return eval_left == eval_right\n",
    "    raise ValueError\n",
    "    \n",
    "def evaluate(exp, sentence_symbol_map):\n",
    "    \"\"\"\n",
    "    Given an expression and a map of sentence symbols onto True and False, evaluate the expression.\n",
    "    any sentence symbol not in map is assumed to be False.\n",
    "    \"\"\"\n",
    "    parse_exp = parse(exp)\n",
    "    if not parse_exp:\n",
    "        return \"Failed to Parse\"\n",
    "    return evaluate_aux(parse_exp, sentence_symbol_map)"
   ]
  },
  {
   "cell_type": "code",
   "execution_count": 6,
   "id": "0eb45be8",
   "metadata": {},
   "outputs": [
    {
     "name": "stdout",
     "output_type": "stream",
     "text": [
      "True\n",
      "False\n"
     ]
    }
   ],
   "source": [
    "print(evaluate(\"( ( A and B ) implies ( C or ( not D ) ) )\", {\"A\": True, \"B\": True, \"C\": False, \"D\": False}))\n",
    "print(evaluate(\"( ( A and B ) implies ( C or ( not D ) ) )\", {\"A\": True, \"B\": True, \"C\": False, \"D\": True}))"
   ]
  },
  {
   "cell_type": "code",
   "execution_count": 7,
   "id": "73ee7505",
   "metadata": {},
   "outputs": [],
   "source": [
    "def sentence_symbols(exp):\n",
    "    return sorted(list(set(tokenize(exp)) - set(logic_symbols + parentheses)))"
   ]
  },
  {
   "cell_type": "code",
   "execution_count": 8,
   "id": "d67e89e5",
   "metadata": {},
   "outputs": [
    {
     "name": "stdout",
     "output_type": "stream",
     "text": [
      "['A', 'C', 'D']\n"
     ]
    }
   ],
   "source": [
    "print(sentence_symbols(\"( ( A and D ) implies ( C or ( not D ) ) )\"))"
   ]
  },
  {
   "cell_type": "code",
   "execution_count": 9,
   "id": "f76ed96a",
   "metadata": {},
   "outputs": [],
   "source": [
    "def all_assignments(n):\n",
    "    if n == 0:\n",
    "        return [[]]\n",
    "    all_assign = all_assignments(n-1)\n",
    "    return [[False] + assign  for assign in all_assign] + [[True] + assign for assign in all_assign]"
   ]
  },
  {
   "cell_type": "code",
   "execution_count": 10,
   "id": "7c3ab723",
   "metadata": {},
   "outputs": [
    {
     "data": {
      "text/plain": [
       "[[False, False], [False, True], [True, False], [True, True]]"
      ]
     },
     "execution_count": 10,
     "metadata": {},
     "output_type": "execute_result"
    }
   ],
   "source": [
    "all_assignments(2)"
   ]
  },
  {
   "cell_type": "code",
   "execution_count": 11,
   "id": "a3d07743",
   "metadata": {},
   "outputs": [
    {
     "data": {
      "text/plain": [
       "{'A': False, 'B': False}"
      ]
     },
     "execution_count": 11,
     "metadata": {},
     "output_type": "execute_result"
    }
   ],
   "source": [
    "dict(zip(['A','B'], [False, False]))"
   ]
  },
  {
   "cell_type": "code",
   "execution_count": 12,
   "id": "a44d8e00",
   "metadata": {},
   "outputs": [],
   "source": [
    "def satisfiable(exp):\n",
    "    sent_sym = sentence_symbols(exp)\n",
    "    return any(evaluate(exp, dict(zip(sent_sym, assign))) for assign in all_assignments(len(sent_sym)))\n",
    "#     sat = False\n",
    "#     for assign in all_assignments(len(sent_sym)):\n",
    "#         d = dict(zip(sent_sym, assign))\n",
    "#         if evaluate(exp, d):\n",
    "#             print(\"Satisfied by: \" + str(d))\n",
    "#             sat = True\n",
    "#         else:\n",
    "#             print(\"Not satisfied by: \" + str(d))\n",
    "#     return sat"
   ]
  },
  {
   "cell_type": "code",
   "execution_count": 13,
   "id": "21aa135b",
   "metadata": {},
   "outputs": [],
   "source": [
    "def tautology(exp):\n",
    "    sent_sym = sentence_symbols(exp)\n",
    "    return all(evaluate(exp, dict(zip(sent_sym, assign))) for assign in all_assignments(len(sent_sym)))\n",
    "#     taut = True\n",
    "#     for assign in all_assignments(len(sent_sym)):\n",
    "#         d = dict(zip(sent_sym, assign))\n",
    "#         if not evaluate(exp, d):\n",
    "#             print(\"Contradicted by: \" + str(d))\n",
    "#             taut = False\n",
    "#     return taut"
   ]
  },
  {
   "cell_type": "code",
   "execution_count": 14,
   "id": "18e4998b",
   "metadata": {},
   "outputs": [
    {
     "name": "stdout",
     "output_type": "stream",
     "text": [
      "True\n",
      "True\n",
      "True\n",
      "False\n"
     ]
    }
   ],
   "source": [
    "print(satisfiable(\"( ( A and B ) implies ( C or ( not D ) ) )\"))\n",
    "print(tautology(\"( A iff A )\"))\n",
    "print(tautology(\"( A implies ( A or B ) )\"))\n",
    "print(tautology(\"( A iff ( A or B ) )\"))"
   ]
  },
  {
   "cell_type": "code",
   "execution_count": 15,
   "id": "96c755ce",
   "metadata": {},
   "outputs": [],
   "source": [
    "def join_and(exps):\n",
    "    if len(exps) == 1:\n",
    "        return exps[0]\n",
    "    return \"( \" + exps[0] + \" and \" + join_and(exps[1:]) + \" )\""
   ]
  },
  {
   "cell_type": "code",
   "execution_count": 16,
   "id": "ae9be3e9",
   "metadata": {},
   "outputs": [
    {
     "name": "stdout",
     "output_type": "stream",
     "text": [
      "( ( A and B ) implies ( C or ( not D ) ) )\n",
      "( ( ( A and B ) implies ( C or ( not D ) ) ) and ( ( A and B ) implies ( C or ( not D ) ) ) )\n"
     ]
    }
   ],
   "source": [
    "print(join_and([\"( ( A and B ) implies ( C or ( not D ) ) )\"]))\n",
    "print(join_and([\"( ( A and B ) implies ( C or ( not D ) ) )\", \"( ( A and B ) implies ( C or ( not D ) ) )\"]))"
   ]
  },
  {
   "cell_type": "raw",
   "id": "6b4624c3",
   "metadata": {},
   "source": [
    "P. 33, 34 of Enderton"
   ]
  },
  {
   "cell_type": "code",
   "execution_count": 17,
   "id": "e9da666e",
   "metadata": {},
   "outputs": [],
   "source": [
    "def tautologically_implies(exps, exp):\n",
    "    \"\"\"\n",
    "    returns true if exp is tautologically implied by exps\n",
    "    \"\"\"\n",
    "    if len(exps) == 0:\n",
    "        return tautology(exp)\n",
    "    return tautology(\"( \" + join_and(exps) + \" implies \" + exp + \" )\")\n",
    "\n",
    "def tautologically_equivalent(exp1, exp2):\n",
    "    \"\"\"\n",
    "    returns true if exp1 is tautologically equivalent to exp2\n",
    "    \"\"\"\n",
    "    return tautology(\"( \" + exp1 + \" iff \" + exp2 + \" )\")"
   ]
  },
  {
   "cell_type": "code",
   "execution_count": 18,
   "id": "caa7e556",
   "metadata": {},
   "outputs": [
    {
     "name": "stdout",
     "output_type": "stream",
     "text": [
      "True\n",
      "True\n"
     ]
    }
   ],
   "source": [
    "print(tautologically_implies([\"A\"], \"( A or B )\"))\n",
    "print(tautologically_equivalent(\"( not ( A or B ) )\", \"( ( not A ) and ( not B ) )\"))"
   ]
  },
  {
   "cell_type": "raw",
   "id": "da726d44",
   "metadata": {},
   "source": [
    "P. 38 ex. 7 (substitution) part b\n",
    "if alpha is a tautology, then substituting anything in for the sent symbols will produce a formula which\n",
    "is also a tautology."
   ]
  },
  {
   "cell_type": "code",
   "execution_count": 19,
   "id": "e2780b80",
   "metadata": {},
   "outputs": [],
   "source": [
    "def parse_tree_to_exp(parse_tree):\n",
    "    if isinstance(parse_tree, str):\n",
    "        return parse_tree\n",
    "    if parse_tree.logic_symbol == 'not':\n",
    "        return '( not ' + parse_tree_to_exp(parse_tree.left_child) + ' )'\n",
    "    return ' '.join(['(', parse_tree_to_exp(parse_tree.left_child), \n",
    "                    parse_tree.logic_symbol, parse_tree_to_exp(parse_tree.right_child), ')'])\n",
    "\n",
    "def substitute_aux(exp, sentence_symbol, sub_exp):\n",
    "    if exp is None:\n",
    "        # case of 'not'\n",
    "        return None\n",
    "    if isinstance(exp, str):\n",
    "        if exp == sentence_symbol:\n",
    "            return sub_exp\n",
    "        return exp\n",
    "    return ParseTree(exp.logic_symbol, substitute_aux(exp.left_child, sentence_symbol, sub_exp),\n",
    "                     substitute_aux(exp.right_child, sentence_symbol, sub_exp))\n",
    "    \n",
    "def substitute(exp, sentence_symbol, sub_exp):\n",
    "    \"\"\"\n",
    "    substitute sub_exp into exp wherever sentence_symbol appears in exp.\n",
    "    \"\"\"\n",
    "    return parse_tree_to_exp(substitute_aux(parse(exp), sentence_symbol, sub_exp))"
   ]
  },
  {
   "cell_type": "code",
   "execution_count": 20,
   "id": "7c53392b",
   "metadata": {
    "scrolled": true
   },
   "outputs": [
    {
     "data": {
      "text/plain": [
       "'( ( C and D ) or ( not ( C and D ) ) )'"
      ]
     },
     "execution_count": 20,
     "metadata": {},
     "output_type": "execute_result"
    }
   ],
   "source": [
    "substitute(\"( A or ( not A ) )\", \"A\", \"( C and D )\")"
   ]
  },
  {
   "cell_type": "code",
   "execution_count": 21,
   "id": "50a1e063",
   "metadata": {},
   "outputs": [
    {
     "name": "stdout",
     "output_type": "stream",
     "text": [
      "True\n",
      "True\n"
     ]
    }
   ],
   "source": [
    "print(tautology(\"( A or ( not A ) )\"))\n",
    "print(tautology(substitute(\"( A or ( not A ) )\", \"A\", \"( C and D )\")))"
   ]
  },
  {
   "cell_type": "raw",
   "id": "136b9acd",
   "metadata": {},
   "source": [
    "P. 38 ex. 8 (duality)\n",
    "Let alpha be a WFF whose only connective symbols are not, and, or.\n",
    "Interchange or/and, sentence symbols with their negations\n",
    "Then the dual is taut equiv to ( not alpha )"
   ]
  },
  {
   "cell_type": "code",
   "execution_count": 22,
   "id": "c9452dce",
   "metadata": {},
   "outputs": [],
   "source": [
    "def dual_exp(exp):\n",
    "    \"\"\"\n",
    "    returns the expression in which 'and' is interchanged for 'or' and vice versa, and sentence symbols with their negations.\n",
    "    \"\"\"\n",
    "    tok_exp = tokenize(exp)\n",
    "    tok_exp = [\"_or\" if tok == \"and\" else \"_and\" if tok == \"or\" else \"( not \" + tok + \" )\" \n",
    "               if tok not in logic_symbols + parentheses else tok for tok in tok_exp]\n",
    "    tok_exp = [\"or\" if tok == \"_or\" else \"and\" if tok == \"_and\" else tok for tok in tok_exp]\n",
    "    return \" \".join(tok_exp)"
   ]
  },
  {
   "cell_type": "code",
   "execution_count": 23,
   "id": "3beef27a",
   "metadata": {},
   "outputs": [
    {
     "name": "stdout",
     "output_type": "stream",
     "text": [
      "( ( ( not A ) or ( not B ) ) and ( ( not C ) and ( not ( not D ) ) ) )\n",
      "True\n"
     ]
    }
   ],
   "source": [
    "exp = \"( ( A and B ) or ( C or ( not D ) ) )\"\n",
    "print(dual_exp(exp))\n",
    "print(tautologically_equivalent(dual_exp(exp), \"( not \" + exp + \" )\"))"
   ]
  },
  {
   "cell_type": "raw",
   "id": "1aaa682e",
   "metadata": {},
   "source": [
    "P. 38 ex. 9\n",
    "Sigma1 is equivalent to Sigma2 iff for any wff alpha, Sigma1 taut implies alpha iff Sigma2 taut implies alpha.\n",
    "Sigma is independent iff no member of Sigma is taut impled by the remaining members of Sigma."
   ]
  },
  {
   "cell_type": "code",
   "execution_count": 24,
   "id": "de176c88",
   "metadata": {},
   "outputs": [],
   "source": [
    "def independent_equivalent_subset(exps):\n",
    "    \"\"\"\n",
    "    Returns a subset of exps that are independent but still equivalent to exps.\n",
    "    \"\"\"\n",
    "    exps_set = set(exps)\n",
    "    while True:\n",
    "        independent = True\n",
    "        for exp in exps_set:\n",
    "            tmp = list(exps_set - set([exp]))\n",
    "            if tautologically_implies(tmp, exp):\n",
    "                # print(tmp, \"taut implies\", exp)\n",
    "                independent = False\n",
    "                exps_set = exps_set - set([exp])\n",
    "                break\n",
    "        if independent == True:\n",
    "            return list(exps_set)"
   ]
  },
  {
   "cell_type": "code",
   "execution_count": 25,
   "id": "eb50cb5d",
   "metadata": {},
   "outputs": [
    {
     "name": "stdout",
     "output_type": "stream",
     "text": [
      "['( A and B )']\n",
      "['A']\n",
      "['( not ( A or B ) )']\n"
     ]
    }
   ],
   "source": [
    "print(independent_equivalent_subset([\"( A and B )\", \"A\", \"B\"]))\n",
    "print(independent_equivalent_subset([\"A\", \"( A or B )\"]))\n",
    "print(independent_equivalent_subset([\"( not ( A or B ) )\", \"( ( not A ) and ( not B ) )\"]))"
   ]
  },
  {
   "cell_type": "raw",
   "id": "c4360a17",
   "metadata": {},
   "source": [
    "Simplify and extend the parsing logic from above by using the nltk parsing toolkits\n",
    "There is a simple boolean English parsing example, and we'll also be better prepared for First Order Logic"
   ]
  },
  {
   "cell_type": "code",
   "execution_count": 1,
   "id": "af8c6965",
   "metadata": {},
   "outputs": [],
   "source": [
    "import nltk"
   ]
  },
  {
   "cell_type": "code",
   "execution_count": 2,
   "id": "615029b2",
   "metadata": {},
   "outputs": [
    {
     "data": {
      "image/svg+xml": [
       "<svg baseProfile=\"full\" height=\"360px\" preserveAspectRatio=\"xMidYMid meet\" style=\"font-family: times, serif; font-weight: normal; font-style: normal; font-size: 16px;\" version=\"1.1\" viewBox=\"0,0,432.0,360.0\" width=\"432px\" xmlns=\"http://www.w3.org/2000/svg\" xmlns:ev=\"http://www.w3.org/2001/xml-events\" xmlns:xlink=\"http://www.w3.org/1999/xlink\"><defs /><svg width=\"100%\" x=\"0\" y=\"0px\"><defs /><text text-anchor=\"middle\" x=\"50%\" y=\"16px\">S</text></svg><svg width=\"100%\" x=\"0%\" y=\"48px\"><defs /><svg width=\"100%\" x=\"0\" y=\"0px\"><defs /><text text-anchor=\"middle\" x=\"50%\" y=\"16px\">OR</text></svg><svg width=\"5.55556%\" x=\"0%\" y=\"48px\"><defs /><svg width=\"100%\" x=\"0\" y=\"0px\"><defs /><text text-anchor=\"middle\" x=\"50%\" y=\"16px\">(</text></svg></svg><line stroke=\"black\" x1=\"50%\" x2=\"2.77778%\" y1=\"19.2px\" y2=\"48px\" /><svg width=\"31.4815%\" x=\"5.55556%\" y=\"48px\"><defs /><svg width=\"100%\" x=\"0\" y=\"0px\"><defs /><text text-anchor=\"middle\" x=\"50%\" y=\"16px\">S</text></svg><svg width=\"100%\" x=\"0%\" y=\"48px\"><defs /><svg width=\"100%\" x=\"0\" y=\"0px\"><defs /><text text-anchor=\"middle\" x=\"50%\" y=\"16px\">AND</text></svg><svg width=\"17.6471%\" x=\"0%\" y=\"48px\"><defs /><svg width=\"100%\" x=\"0\" y=\"0px\"><defs /><text text-anchor=\"middle\" x=\"50%\" y=\"16px\">(</text></svg></svg><line stroke=\"black\" x1=\"50%\" x2=\"8.82353%\" y1=\"19.2px\" y2=\"48px\" /><svg width=\"17.6471%\" x=\"17.6471%\" y=\"48px\"><defs /><svg width=\"100%\" x=\"0\" y=\"0px\"><defs /><text text-anchor=\"middle\" x=\"50%\" y=\"16px\">S</text></svg><svg width=\"100%\" x=\"0%\" y=\"48px\"><defs /><svg width=\"100%\" x=\"0\" y=\"0px\"><defs /><text text-anchor=\"middle\" x=\"50%\" y=\"16px\">A</text></svg></svg><line stroke=\"black\" x1=\"50%\" x2=\"50%\" y1=\"19.2px\" y2=\"48px\" /></svg><line stroke=\"black\" x1=\"50%\" x2=\"26.4706%\" y1=\"19.2px\" y2=\"48px\" /><svg width=\"29.4118%\" x=\"35.2941%\" y=\"48px\"><defs /><svg width=\"100%\" x=\"0\" y=\"0px\"><defs /><text text-anchor=\"middle\" x=\"50%\" y=\"16px\">and</text></svg></svg><line stroke=\"black\" x1=\"50%\" x2=\"50%\" y1=\"19.2px\" y2=\"48px\" /><svg width=\"17.6471%\" x=\"64.7059%\" y=\"48px\"><defs /><svg width=\"100%\" x=\"0\" y=\"0px\"><defs /><text text-anchor=\"middle\" x=\"50%\" y=\"16px\">S</text></svg><svg width=\"100%\" x=\"0%\" y=\"48px\"><defs /><svg width=\"100%\" x=\"0\" y=\"0px\"><defs /><text text-anchor=\"middle\" x=\"50%\" y=\"16px\">B</text></svg></svg><line stroke=\"black\" x1=\"50%\" x2=\"50%\" y1=\"19.2px\" y2=\"48px\" /></svg><line stroke=\"black\" x1=\"50%\" x2=\"73.5294%\" y1=\"19.2px\" y2=\"48px\" /><svg width=\"17.6471%\" x=\"82.3529%\" y=\"48px\"><defs /><svg width=\"100%\" x=\"0\" y=\"0px\"><defs /><text text-anchor=\"middle\" x=\"50%\" y=\"16px\">)</text></svg></svg><line stroke=\"black\" x1=\"50%\" x2=\"91.1765%\" y1=\"19.2px\" y2=\"48px\" /></svg><line stroke=\"black\" x1=\"50%\" x2=\"50%\" y1=\"19.2px\" y2=\"48px\" /></svg><line stroke=\"black\" x1=\"50%\" x2=\"21.2963%\" y1=\"19.2px\" y2=\"48px\" /><svg width=\"7.40741%\" x=\"37.037%\" y=\"48px\"><defs /><svg width=\"100%\" x=\"0\" y=\"0px\"><defs /><text text-anchor=\"middle\" x=\"50%\" y=\"16px\">or</text></svg></svg><line stroke=\"black\" x1=\"50%\" x2=\"40.7407%\" y1=\"19.2px\" y2=\"48px\" /><svg width=\"50%\" x=\"44.4444%\" y=\"48px\"><defs /><svg width=\"100%\" x=\"0\" y=\"0px\"><defs /><text text-anchor=\"middle\" x=\"50%\" y=\"16px\">S</text></svg><svg width=\"100%\" x=\"0%\" y=\"48px\"><defs /><svg width=\"100%\" x=\"0\" y=\"0px\"><defs /><text text-anchor=\"middle\" x=\"50%\" y=\"16px\">OR</text></svg><svg width=\"11.1111%\" x=\"0%\" y=\"48px\"><defs /><svg width=\"100%\" x=\"0\" y=\"0px\"><defs /><text text-anchor=\"middle\" x=\"50%\" y=\"16px\">(</text></svg></svg><line stroke=\"black\" x1=\"50%\" x2=\"5.55556%\" y1=\"19.2px\" y2=\"48px\" /><svg width=\"11.1111%\" x=\"11.1111%\" y=\"48px\"><defs /><svg width=\"100%\" x=\"0\" y=\"0px\"><defs /><text text-anchor=\"middle\" x=\"50%\" y=\"16px\">S</text></svg><svg width=\"100%\" x=\"0%\" y=\"48px\"><defs /><svg width=\"100%\" x=\"0\" y=\"0px\"><defs /><text text-anchor=\"middle\" x=\"50%\" y=\"16px\">C</text></svg></svg><line stroke=\"black\" x1=\"50%\" x2=\"50%\" y1=\"19.2px\" y2=\"48px\" /></svg><line stroke=\"black\" x1=\"50%\" x2=\"16.6667%\" y1=\"19.2px\" y2=\"48px\" /><svg width=\"14.8148%\" x=\"22.2222%\" y=\"48px\"><defs /><svg width=\"100%\" x=\"0\" y=\"0px\"><defs /><text text-anchor=\"middle\" x=\"50%\" y=\"16px\">or</text></svg></svg><line stroke=\"black\" x1=\"50%\" x2=\"29.6296%\" y1=\"19.2px\" y2=\"48px\" /><svg width=\"51.8519%\" x=\"37.037%\" y=\"48px\"><defs /><svg width=\"100%\" x=\"0\" y=\"0px\"><defs /><text text-anchor=\"middle\" x=\"50%\" y=\"16px\">S</text></svg><svg width=\"100%\" x=\"0%\" y=\"48px\"><defs /><svg width=\"100%\" x=\"0\" y=\"0px\"><defs /><text text-anchor=\"middle\" x=\"50%\" y=\"16px\">NOT</text></svg><svg width=\"21.4286%\" x=\"0%\" y=\"48px\"><defs /><svg width=\"100%\" x=\"0\" y=\"0px\"><defs /><text text-anchor=\"middle\" x=\"50%\" y=\"16px\">(</text></svg></svg><line stroke=\"black\" x1=\"50%\" x2=\"10.7143%\" y1=\"19.2px\" y2=\"48px\" /><svg width=\"35.7143%\" x=\"21.4286%\" y=\"48px\"><defs /><svg width=\"100%\" x=\"0\" y=\"0px\"><defs /><text text-anchor=\"middle\" x=\"50%\" y=\"16px\">not</text></svg></svg><line stroke=\"black\" x1=\"50%\" x2=\"39.2857%\" y1=\"19.2px\" y2=\"48px\" /><svg width=\"21.4286%\" x=\"57.1429%\" y=\"48px\"><defs /><svg width=\"100%\" x=\"0\" y=\"0px\"><defs /><text text-anchor=\"middle\" x=\"50%\" y=\"16px\">S</text></svg><svg width=\"100%\" x=\"0%\" y=\"48px\"><defs /><svg width=\"100%\" x=\"0\" y=\"0px\"><defs /><text text-anchor=\"middle\" x=\"50%\" y=\"16px\">D</text></svg></svg><line stroke=\"black\" x1=\"50%\" x2=\"50%\" y1=\"19.2px\" y2=\"48px\" /></svg><line stroke=\"black\" x1=\"50%\" x2=\"67.8571%\" y1=\"19.2px\" y2=\"48px\" /><svg width=\"21.4286%\" x=\"78.5714%\" y=\"48px\"><defs /><svg width=\"100%\" x=\"0\" y=\"0px\"><defs /><text text-anchor=\"middle\" x=\"50%\" y=\"16px\">)</text></svg></svg><line stroke=\"black\" x1=\"50%\" x2=\"89.2857%\" y1=\"19.2px\" y2=\"48px\" /></svg><line stroke=\"black\" x1=\"50%\" x2=\"50%\" y1=\"19.2px\" y2=\"48px\" /></svg><line stroke=\"black\" x1=\"50%\" x2=\"62.963%\" y1=\"19.2px\" y2=\"48px\" /><svg width=\"11.1111%\" x=\"88.8889%\" y=\"48px\"><defs /><svg width=\"100%\" x=\"0\" y=\"0px\"><defs /><text text-anchor=\"middle\" x=\"50%\" y=\"16px\">)</text></svg></svg><line stroke=\"black\" x1=\"50%\" x2=\"94.4444%\" y1=\"19.2px\" y2=\"48px\" /></svg><line stroke=\"black\" x1=\"50%\" x2=\"50%\" y1=\"19.2px\" y2=\"48px\" /></svg><line stroke=\"black\" x1=\"50%\" x2=\"69.4444%\" y1=\"19.2px\" y2=\"48px\" /><svg width=\"5.55556%\" x=\"94.4444%\" y=\"48px\"><defs /><svg width=\"100%\" x=\"0\" y=\"0px\"><defs /><text text-anchor=\"middle\" x=\"50%\" y=\"16px\">)</text></svg></svg><line stroke=\"black\" x1=\"50%\" x2=\"97.2222%\" y1=\"19.2px\" y2=\"48px\" /></svg><line stroke=\"black\" x1=\"50%\" x2=\"50%\" y1=\"19.2px\" y2=\"48px\" /></svg>"
      ],
      "text/plain": [
       "Tree('S', [Tree('OR', ['(', Tree('S', [Tree('AND', ['(', Tree('S', ['A']), 'and', Tree('S', ['B']), ')'])]), 'or', Tree('S', [Tree('OR', ['(', Tree('S', ['C']), 'or', Tree('S', [Tree('NOT', ['(', 'not', Tree('S', ['D']), ')'])]), ')'])]), ')'])])"
      ]
     },
     "execution_count": 2,
     "metadata": {},
     "output_type": "execute_result"
    }
   ],
   "source": [
    "logic_symbols = [\"implies\", \"iff\", \"and\", \"or\", \"not\"]\n",
    "parentheses = [\"(\", \")\"]\n",
    "\n",
    "def tokenize(exp):\n",
    "    \"\"\"\n",
    "    Returns the tokens of an expression\n",
    "    \"\"\"\n",
    "    return exp.split()\n",
    "\n",
    "sentential_logic_grammar1 = nltk.CFG.fromstring(\"\"\"\n",
    "    S -> AND\n",
    "    S -> OR\n",
    "    S -> IMPLIES\n",
    "    S -> IFF\n",
    "    S -> NOT\n",
    "    AND -> '(' S 'and' S ')'\n",
    "    OR -> '(' S 'or' S ')'\n",
    "    IMPLIES -> '(' S 'implies' S ')'\n",
    "    IFF -> '(' S 'iff' S ')'\n",
    "    NOT -> '(' 'not' S ')'\n",
    "    S -> 'A'\n",
    "    S -> 'B'\n",
    "    S -> 'C'\n",
    "    S -> 'D'\n",
    "    \"\"\")\n",
    "parser1 = nltk.ChartParser(sentential_logic_grammar1)\n",
    "exp = \"( ( A and B ) or ( C or ( not D ) ) )\"\n",
    "sent = tokenize(exp)\n",
    "list(parser1.parse(sent))[0]"
   ]
  },
  {
   "cell_type": "code",
   "execution_count": 3,
   "id": "41f22d4b",
   "metadata": {},
   "outputs": [],
   "source": [
    "def removeSymbols(tree, remove_symbols):\n",
    "    if isinstance(tree, str):\n",
    "        return tree\n",
    "    return nltk.tree.Tree(tree.label(), [removeSymbols(child, remove_symbols) for child in tree \n",
    "                                         if child not in remove_symbols])\n",
    "\n",
    "def removeS(tree):\n",
    "    if isinstance(tree, str):\n",
    "        return tree\n",
    "    if tree.label() == \"S\":\n",
    "        return removeS(tree[0])\n",
    "    return nltk.tree.Tree(tree.label(), [removeS(child) for child in tree])\n",
    "\n",
    "def pruneTree(tree, remove_symbols):\n",
    "    return removeS(removeSymbols(tree, remove_symbols))"
   ]
  },
  {
   "cell_type": "code",
   "execution_count": 4,
   "id": "a1ad104c",
   "metadata": {},
   "outputs": [
    {
     "data": {
      "image/svg+xml": [
       "<svg baseProfile=\"full\" height=\"168px\" preserveAspectRatio=\"xMidYMid meet\" style=\"font-family: times, serif; font-weight: normal; font-style: normal; font-size: 16px;\" version=\"1.1\" viewBox=\"0,0,112.0,168.0\" width=\"112px\" xmlns=\"http://www.w3.org/2000/svg\" xmlns:ev=\"http://www.w3.org/2001/xml-events\" xmlns:xlink=\"http://www.w3.org/1999/xlink\"><defs /><svg width=\"100%\" x=\"0\" y=\"0px\"><defs /><text text-anchor=\"middle\" x=\"50%\" y=\"16px\">OR</text></svg><svg width=\"42.8571%\" x=\"0%\" y=\"48px\"><defs /><svg width=\"100%\" x=\"0\" y=\"0px\"><defs /><text text-anchor=\"middle\" x=\"50%\" y=\"16px\">AND</text></svg><svg width=\"50%\" x=\"0%\" y=\"48px\"><defs /><svg width=\"100%\" x=\"0\" y=\"0px\"><defs /><text text-anchor=\"middle\" x=\"50%\" y=\"16px\">A</text></svg></svg><line stroke=\"black\" x1=\"50%\" x2=\"25%\" y1=\"19.2px\" y2=\"48px\" /><svg width=\"50%\" x=\"50%\" y=\"48px\"><defs /><svg width=\"100%\" x=\"0\" y=\"0px\"><defs /><text text-anchor=\"middle\" x=\"50%\" y=\"16px\">B</text></svg></svg><line stroke=\"black\" x1=\"50%\" x2=\"75%\" y1=\"19.2px\" y2=\"48px\" /></svg><line stroke=\"black\" x1=\"50%\" x2=\"21.4286%\" y1=\"19.2px\" y2=\"48px\" /><svg width=\"57.1429%\" x=\"42.8571%\" y=\"48px\"><defs /><svg width=\"100%\" x=\"0\" y=\"0px\"><defs /><text text-anchor=\"middle\" x=\"50%\" y=\"16px\">OR</text></svg><svg width=\"37.5%\" x=\"0%\" y=\"48px\"><defs /><svg width=\"100%\" x=\"0\" y=\"0px\"><defs /><text text-anchor=\"middle\" x=\"50%\" y=\"16px\">C</text></svg></svg><line stroke=\"black\" x1=\"50%\" x2=\"18.75%\" y1=\"19.2px\" y2=\"48px\" /><svg width=\"62.5%\" x=\"37.5%\" y=\"48px\"><defs /><svg width=\"100%\" x=\"0\" y=\"0px\"><defs /><text text-anchor=\"middle\" x=\"50%\" y=\"16px\">NOT</text></svg><svg width=\"100%\" x=\"0%\" y=\"48px\"><defs /><svg width=\"100%\" x=\"0\" y=\"0px\"><defs /><text text-anchor=\"middle\" x=\"50%\" y=\"16px\">D</text></svg></svg><line stroke=\"black\" x1=\"50%\" x2=\"50%\" y1=\"19.2px\" y2=\"48px\" /></svg><line stroke=\"black\" x1=\"50%\" x2=\"68.75%\" y1=\"19.2px\" y2=\"48px\" /></svg><line stroke=\"black\" x1=\"50%\" x2=\"71.4286%\" y1=\"19.2px\" y2=\"48px\" /></svg>"
      ],
      "text/plain": [
       "Tree('OR', [Tree('AND', ['A', 'B']), Tree('OR', ['C', Tree('NOT', ['D'])])])"
      ]
     },
     "execution_count": 4,
     "metadata": {},
     "output_type": "execute_result"
    }
   ],
   "source": [
    "x1 = list(parser1.parse(sent))[0]\n",
    "pruneTree(x1, logic_symbols + parentheses)"
   ]
  },
  {
   "cell_type": "code",
   "execution_count": 5,
   "id": "fcc4d03a",
   "metadata": {},
   "outputs": [],
   "source": [
    "def parse(exp):\n",
    "    logic_symbols = [\"implies\", \"iff\", \"and\", \"or\", \"not\"]\n",
    "    parentheses = [\"(\", \")\"]\n",
    "    \n",
    "    sentential_logic_grammar = nltk.CFG.fromstring(\"\"\"\n",
    "    S -> AND\n",
    "    S -> OR\n",
    "    S -> IMPLIES\n",
    "    S -> IFF\n",
    "    S -> NOT\n",
    "    AND -> '(' S 'and' S ')'\n",
    "    OR -> '(' S 'or' S ')'\n",
    "    IMPLIES -> '(' S 'implies' S ')'\n",
    "    IFF -> '(' S 'iff' S ')'\n",
    "    NOT -> '(' 'not' S ')'\n",
    "    S -> 'A'\n",
    "    S -> 'B'\n",
    "    S -> 'C'\n",
    "    S -> 'D'\n",
    "    \"\"\")\n",
    "    parser = nltk.ChartParser(sentential_logic_grammar)\n",
    "    sent = tokenize(exp)\n",
    "    try:\n",
    "        p = parser1.parse(sent)\n",
    "        return pruneTree(list(p)[0], logic_symbols + parentheses)\n",
    "    except ValueError as e:\n",
    "        return e\n",
    "    except IndexError as e:\n",
    "        return \"Failed to Parse\""
   ]
  },
  {
   "cell_type": "code",
   "execution_count": 6,
   "id": "de395030",
   "metadata": {},
   "outputs": [
    {
     "name": "stdout",
     "output_type": "stream",
     "text": [
      "(IMPLIES (AND A B) (OR C (NOT D)))\n",
      "(AND (AND A B) (OR C (NOT D)))\n",
      "True\n",
      "Failed to Parse\n",
      "Grammar does not cover some of the input words: \"'nand'\".\n"
     ]
    }
   ],
   "source": [
    "print(parse(\"( ( A and B ) implies ( C or ( not D ) ) )\"))\n",
    "print(parse(\"( ( A and B ) and ( C or ( not D ) ) )\"))\n",
    "print(isinstance(parse(\"( ( A and B ) and ( C or ( not D ) ) )\"), nltk.tree.Tree))\n",
    "print(parse(\"( ( A and B ) and ( C or ( not D ) ) ) )\"))\n",
    "print(parse(\"( ( A and B ) nand ( C or ( not D ) ) )\"))"
   ]
  },
  {
   "cell_type": "code",
   "execution_count": 7,
   "id": "5f45d6c3",
   "metadata": {},
   "outputs": [],
   "source": [
    "def evaluate_aux(exp, sentence_symbol_map):\n",
    "    if isinstance(exp, str):\n",
    "        if exp not in sentence_symbol_map:\n",
    "            return False\n",
    "        return sentence_symbol_map[exp]\n",
    "    if exp.label() == \"NOT\":\n",
    "        return not evaluate_aux(exp[0], sentence_symbol_map)\n",
    "    eval_left = evaluate_aux(exp[0], sentence_symbol_map)\n",
    "    eval_right = evaluate_aux(exp[1], sentence_symbol_map)\n",
    "    if exp.label() == \"AND\":\n",
    "        return eval_left and eval_right\n",
    "    if exp.label() == \"OR\":\n",
    "        return eval_left or eval_right\n",
    "    if exp.label() == \"IMPLIES\":\n",
    "        return not eval_left or eval_right\n",
    "    if exp.label() == \"IFF\":\n",
    "        return eval_left == eval_right\n",
    "    raise ValueError\n",
    "    \n",
    "def evaluate(exp, sentence_symbol_map):\n",
    "    \"\"\"\n",
    "    Given an expression and a map of sentence symbols onto True and False, evaluate the expression.\n",
    "    any sentence symbol not in map is assumed to be False.\n",
    "    \"\"\"\n",
    "    p = parse(exp)\n",
    "    if not isinstance(p, nltk.tree.Tree):\n",
    "        return p\n",
    "    return evaluate_aux(p, sentence_symbol_map)"
   ]
  },
  {
   "cell_type": "code",
   "execution_count": 8,
   "id": "35957d5c",
   "metadata": {},
   "outputs": [
    {
     "name": "stdout",
     "output_type": "stream",
     "text": [
      "True\n",
      "False\n",
      "True\n",
      "False\n"
     ]
    }
   ],
   "source": [
    "print(evaluate(\"( ( A and B ) and ( C or ( not D ) ) )\", {\"A\": True, \"B\": True, \"C\": False, \"D\": False}))\n",
    "print(evaluate(\"( ( A and B ) and ( C or ( not D ) ) )\", {\"A\": True, \"B\": True, \"C\": False, \"D\": True}))\n",
    "print(evaluate(\"( ( A and B ) implies ( C or ( not D ) ) )\", {\"A\": True, \"B\": True, \"C\": False, \"D\": False}))\n",
    "print(evaluate(\"( ( A and B ) implies ( C or ( not D ) ) )\", {\"A\": True, \"B\": True, \"C\": False, \"D\": True}))"
   ]
  },
  {
   "cell_type": "raw",
   "id": "41037631",
   "metadata": {},
   "source": [
    "Enderton 1.4 ex. 4\n",
    "English unique readablity\n",
    "either ... or\n",
    "both ... and\n",
    "if ... then"
   ]
  },
  {
   "cell_type": "code",
   "execution_count": 9,
   "id": "5de2dc00",
   "metadata": {},
   "outputs": [],
   "source": [
    "def tokenize_english(exp, logic_symbols):\n",
    "    toks = exp.split(\" \")\n",
    "    comb_toks = []\n",
    "    for tok in toks:\n",
    "        if tok in logic_symbols or (len(comb_toks) and comb_toks[-1] in logic_symbols):\n",
    "            comb_toks.append(tok)\n",
    "            if tok == \"not\" and len(comb_toks) >= 2 and comb_toks[-2] not in logic_symbols:\n",
    "                # if not is in the middle of a simple phrase, move it to the beginning by swapping.\n",
    "                comb_toks[-1] = comb_toks[-2]\n",
    "                comb_toks[-2] = 'not'\n",
    "        else:\n",
    "            # This case is just because 'not' needn't be the start, and so a non-logical symbol can start a wff.\n",
    "            if len(comb_toks) == 0:\n",
    "                comb_toks.append(tok)\n",
    "            else:\n",
    "                comb_toks[-1] += \" \" + tok\n",
    "    return comb_toks\n",
    "\n",
    "def parse_english(exp):\n",
    "    logic_symbols = [\"either\", \"or\", \"both\", \"and\", \"not\", \"if\", \"then\"]\n",
    "    sent = tokenize_english(exp, logic_symbols)\n",
    "    basics = \"\\n\".join([\"S -> '\" + b + \"'\" for b in set(sent) - set(logic_symbols)])\n",
    "\n",
    "    sentential_logic_grammar = nltk.CFG.fromstring(\"\"\"\n",
    "    S -> AND\n",
    "    S -> OR\n",
    "    S -> IMPLIES\n",
    "    S -> NOT\n",
    "    AND -> 'both' S 'and' S\n",
    "    OR -> 'either' S 'or' S\n",
    "    IMPLIES -> 'if' S 'then' S\n",
    "    NOT -> 'not' S\n",
    "    \"\"\" + basics)    \n",
    "    parser = nltk.ChartParser(sentential_logic_grammar)\n",
    "    try:\n",
    "        p = parser.parse(sent)\n",
    "        return pruneTree(list(p)[0], logic_symbols)\n",
    "    except ValueError as e:\n",
    "        return e\n",
    "    except IndexError as e:\n",
    "        return \"Failed to Parse\""
   ]
  },
  {
   "cell_type": "code",
   "execution_count": 10,
   "id": "589d3648",
   "metadata": {},
   "outputs": [
    {
     "name": "stdout",
     "output_type": "stream",
     "text": [
      "['not', 'the sun is shining']\n",
      "['not', 'the sun is shining']\n",
      "['either', 'both', 'it is raining', 'and', 'the plants grow', 'or', 'not', 'the sun is shining']\n"
     ]
    },
    {
     "data": {
      "image/svg+xml": [
       "<svg baseProfile=\"full\" height=\"120px\" preserveAspectRatio=\"xMidYMid meet\" style=\"font-family: times, serif; font-weight: normal; font-style: normal; font-size: 16px;\" version=\"1.1\" viewBox=\"0,0,416.0,120.0\" width=\"416px\" xmlns=\"http://www.w3.org/2000/svg\" xmlns:ev=\"http://www.w3.org/2001/xml-events\" xmlns:xlink=\"http://www.w3.org/1999/xlink\"><defs /><svg width=\"100%\" x=\"0\" y=\"0px\"><defs /><text text-anchor=\"middle\" x=\"50%\" y=\"16px\">OR</text></svg><svg width=\"61.5385%\" x=\"0%\" y=\"48px\"><defs /><svg width=\"100%\" x=\"0\" y=\"0px\"><defs /><text text-anchor=\"middle\" x=\"50%\" y=\"16px\">AND</text></svg><svg width=\"46.875%\" x=\"0%\" y=\"48px\"><defs /><svg width=\"100%\" x=\"0\" y=\"0px\"><defs /><text text-anchor=\"middle\" x=\"50%\" y=\"16px\">it is raining</text></svg></svg><line stroke=\"black\" x1=\"50%\" x2=\"23.4375%\" y1=\"19.2px\" y2=\"48px\" /><svg width=\"53.125%\" x=\"46.875%\" y=\"48px\"><defs /><svg width=\"100%\" x=\"0\" y=\"0px\"><defs /><text text-anchor=\"middle\" x=\"50%\" y=\"16px\">the plants grow</text></svg></svg><line stroke=\"black\" x1=\"50%\" x2=\"73.4375%\" y1=\"19.2px\" y2=\"48px\" /></svg><line stroke=\"black\" x1=\"50%\" x2=\"30.7692%\" y1=\"19.2px\" y2=\"48px\" /><svg width=\"38.4615%\" x=\"61.5385%\" y=\"48px\"><defs /><svg width=\"100%\" x=\"0\" y=\"0px\"><defs /><text text-anchor=\"middle\" x=\"50%\" y=\"16px\">NOT</text></svg><svg width=\"100%\" x=\"0%\" y=\"48px\"><defs /><svg width=\"100%\" x=\"0\" y=\"0px\"><defs /><text text-anchor=\"middle\" x=\"50%\" y=\"16px\">the sun is shining</text></svg></svg><line stroke=\"black\" x1=\"50%\" x2=\"50%\" y1=\"19.2px\" y2=\"48px\" /></svg><line stroke=\"black\" x1=\"50%\" x2=\"80.7692%\" y1=\"19.2px\" y2=\"48px\" /></svg>"
      ],
      "text/plain": [
       "Tree('OR', [Tree('AND', ['it is raining', 'the plants grow']), Tree('NOT', ['the sun is shining'])])"
      ]
     },
     "execution_count": 10,
     "metadata": {},
     "output_type": "execute_result"
    }
   ],
   "source": [
    "print(tokenize_english(\"not the sun is shining\",\n",
    "                [\"either\", \"or\", \"both\", \"and\", \"not\", \"if\", \"then\"]))\n",
    "print(tokenize_english(\"the sun is not shining\",\n",
    "                [\"either\", \"or\", \"both\", \"and\", \"not\", \"if\", \"then\"]))\n",
    "print(tokenize_english(\"either both it is raining and the plants grow or the sun is not shining\",\n",
    "                [\"either\", \"or\", \"both\", \"and\", \"not\", \"if\", \"then\"]))\n",
    "parse_english(\"either both it is raining and the plants grow or the sun is not shining\")"
   ]
  },
  {
   "cell_type": "code",
   "execution_count": 11,
   "id": "f80ff0f7",
   "metadata": {},
   "outputs": [
    {
     "data": {
      "image/svg+xml": [
       "<svg baseProfile=\"full\" height=\"168px\" preserveAspectRatio=\"xMidYMid meet\" style=\"font-family: times, serif; font-weight: normal; font-style: normal; font-size: 16px;\" version=\"1.1\" viewBox=\"0,0,416.0,168.0\" width=\"416px\" xmlns=\"http://www.w3.org/2000/svg\" xmlns:ev=\"http://www.w3.org/2001/xml-events\" xmlns:xlink=\"http://www.w3.org/1999/xlink\"><defs /><svg width=\"100%\" x=\"0\" y=\"0px\"><defs /><text text-anchor=\"middle\" x=\"50%\" y=\"16px\">OR</text></svg><svg width=\"61.5385%\" x=\"0%\" y=\"48px\"><defs /><svg width=\"100%\" x=\"0\" y=\"0px\"><defs /><text text-anchor=\"middle\" x=\"50%\" y=\"16px\">NOT</text></svg><svg width=\"100%\" x=\"0%\" y=\"48px\"><defs /><svg width=\"100%\" x=\"0\" y=\"0px\"><defs /><text text-anchor=\"middle\" x=\"50%\" y=\"16px\">AND</text></svg><svg width=\"46.875%\" x=\"0%\" y=\"48px\"><defs /><svg width=\"100%\" x=\"0\" y=\"0px\"><defs /><text text-anchor=\"middle\" x=\"50%\" y=\"16px\">it is raining</text></svg></svg><line stroke=\"black\" x1=\"50%\" x2=\"23.4375%\" y1=\"19.2px\" y2=\"48px\" /><svg width=\"53.125%\" x=\"46.875%\" y=\"48px\"><defs /><svg width=\"100%\" x=\"0\" y=\"0px\"><defs /><text text-anchor=\"middle\" x=\"50%\" y=\"16px\">the plants grow</text></svg></svg><line stroke=\"black\" x1=\"50%\" x2=\"73.4375%\" y1=\"19.2px\" y2=\"48px\" /></svg><line stroke=\"black\" x1=\"50%\" x2=\"50%\" y1=\"19.2px\" y2=\"48px\" /></svg><line stroke=\"black\" x1=\"50%\" x2=\"30.7692%\" y1=\"19.2px\" y2=\"48px\" /><svg width=\"38.4615%\" x=\"61.5385%\" y=\"48px\"><defs /><svg width=\"100%\" x=\"0\" y=\"0px\"><defs /><text text-anchor=\"middle\" x=\"50%\" y=\"16px\">the sun is shining</text></svg></svg><line stroke=\"black\" x1=\"50%\" x2=\"80.7692%\" y1=\"19.2px\" y2=\"48px\" /></svg>"
      ],
      "text/plain": [
       "Tree('OR', [Tree('NOT', [Tree('AND', ['it is raining', 'the plants grow'])]), 'the sun is shining'])"
      ]
     },
     "execution_count": 11,
     "metadata": {},
     "output_type": "execute_result"
    }
   ],
   "source": [
    "parse_english(\"either not both it is raining and the plants grow or the sun is shining\")"
   ]
  },
  {
   "cell_type": "code",
   "execution_count": 12,
   "id": "f2000645",
   "metadata": {},
   "outputs": [
    {
     "data": {
      "image/svg+xml": [
       "<svg baseProfile=\"full\" height=\"120px\" preserveAspectRatio=\"xMidYMid meet\" style=\"font-family: times, serif; font-weight: normal; font-style: normal; font-size: 16px;\" version=\"1.1\" viewBox=\"0,0,72.0,120.0\" width=\"72px\" xmlns=\"http://www.w3.org/2000/svg\" xmlns:ev=\"http://www.w3.org/2001/xml-events\" xmlns:xlink=\"http://www.w3.org/1999/xlink\"><defs /><svg width=\"100%\" x=\"0\" y=\"0px\"><defs /><text text-anchor=\"middle\" x=\"50%\" y=\"16px\">IMPLIES</text></svg><svg width=\"66.6667%\" x=\"0%\" y=\"48px\"><defs /><svg width=\"100%\" x=\"0\" y=\"0px\"><defs /><text text-anchor=\"middle\" x=\"50%\" y=\"16px\">AND</text></svg><svg width=\"50%\" x=\"0%\" y=\"48px\"><defs /><svg width=\"100%\" x=\"0\" y=\"0px\"><defs /><text text-anchor=\"middle\" x=\"50%\" y=\"16px\">A</text></svg></svg><line stroke=\"black\" x1=\"50%\" x2=\"25%\" y1=\"19.2px\" y2=\"48px\" /><svg width=\"50%\" x=\"50%\" y=\"48px\"><defs /><svg width=\"100%\" x=\"0\" y=\"0px\"><defs /><text text-anchor=\"middle\" x=\"50%\" y=\"16px\">B</text></svg></svg><line stroke=\"black\" x1=\"50%\" x2=\"75%\" y1=\"19.2px\" y2=\"48px\" /></svg><line stroke=\"black\" x1=\"50%\" x2=\"33.3333%\" y1=\"19.2px\" y2=\"48px\" /><svg width=\"33.3333%\" x=\"66.6667%\" y=\"48px\"><defs /><svg width=\"100%\" x=\"0\" y=\"0px\"><defs /><text text-anchor=\"middle\" x=\"50%\" y=\"16px\">B</text></svg></svg><line stroke=\"black\" x1=\"50%\" x2=\"83.3333%\" y1=\"19.2px\" y2=\"48px\" /></svg>"
      ],
      "text/plain": [
       "Tree('IMPLIES', [Tree('AND', ['A', 'B']), 'B'])"
      ]
     },
     "execution_count": 12,
     "metadata": {},
     "output_type": "execute_result"
    }
   ],
   "source": [
    "parse_english(\"if both A and B then B\")"
   ]
  },
  {
   "cell_type": "code",
   "execution_count": 13,
   "id": "93c00549",
   "metadata": {},
   "outputs": [
    {
     "data": {
      "image/svg+xml": [
       "<svg baseProfile=\"full\" height=\"168px\" preserveAspectRatio=\"xMidYMid meet\" style=\"font-family: times, serif; font-weight: normal; font-style: normal; font-size: 16px;\" version=\"1.1\" viewBox=\"0,0,128.0,168.0\" width=\"128px\" xmlns=\"http://www.w3.org/2000/svg\" xmlns:ev=\"http://www.w3.org/2001/xml-events\" xmlns:xlink=\"http://www.w3.org/1999/xlink\"><defs /><svg width=\"100%\" x=\"0\" y=\"0px\"><defs /><text text-anchor=\"middle\" x=\"50%\" y=\"16px\">IMPLIES</text></svg><svg width=\"37.5%\" x=\"0%\" y=\"48px\"><defs /><svg width=\"100%\" x=\"0\" y=\"0px\"><defs /><text text-anchor=\"middle\" x=\"50%\" y=\"16px\">NOT</text></svg><svg width=\"100%\" x=\"0%\" y=\"48px\"><defs /><svg width=\"100%\" x=\"0\" y=\"0px\"><defs /><text text-anchor=\"middle\" x=\"50%\" y=\"16px\">AND</text></svg><svg width=\"50%\" x=\"0%\" y=\"48px\"><defs /><svg width=\"100%\" x=\"0\" y=\"0px\"><defs /><text text-anchor=\"middle\" x=\"50%\" y=\"16px\">A</text></svg></svg><line stroke=\"black\" x1=\"50%\" x2=\"25%\" y1=\"19.2px\" y2=\"48px\" /><svg width=\"50%\" x=\"50%\" y=\"48px\"><defs /><svg width=\"100%\" x=\"0\" y=\"0px\"><defs /><text text-anchor=\"middle\" x=\"50%\" y=\"16px\">B</text></svg></svg><line stroke=\"black\" x1=\"50%\" x2=\"75%\" y1=\"19.2px\" y2=\"48px\" /></svg><line stroke=\"black\" x1=\"50%\" x2=\"50%\" y1=\"19.2px\" y2=\"48px\" /></svg><line stroke=\"black\" x1=\"50%\" x2=\"18.75%\" y1=\"19.2px\" y2=\"48px\" /><svg width=\"62.5%\" x=\"37.5%\" y=\"48px\"><defs /><svg width=\"100%\" x=\"0\" y=\"0px\"><defs /><text text-anchor=\"middle\" x=\"50%\" y=\"16px\">OR</text></svg><svg width=\"50%\" x=\"0%\" y=\"48px\"><defs /><svg width=\"100%\" x=\"0\" y=\"0px\"><defs /><text text-anchor=\"middle\" x=\"50%\" y=\"16px\">NOT</text></svg><svg width=\"100%\" x=\"0%\" y=\"48px\"><defs /><svg width=\"100%\" x=\"0\" y=\"0px\"><defs /><text text-anchor=\"middle\" x=\"50%\" y=\"16px\">A</text></svg></svg><line stroke=\"black\" x1=\"50%\" x2=\"50%\" y1=\"19.2px\" y2=\"48px\" /></svg><line stroke=\"black\" x1=\"50%\" x2=\"25%\" y1=\"19.2px\" y2=\"48px\" /><svg width=\"50%\" x=\"50%\" y=\"48px\"><defs /><svg width=\"100%\" x=\"0\" y=\"0px\"><defs /><text text-anchor=\"middle\" x=\"50%\" y=\"16px\">NOT</text></svg><svg width=\"100%\" x=\"0%\" y=\"48px\"><defs /><svg width=\"100%\" x=\"0\" y=\"0px\"><defs /><text text-anchor=\"middle\" x=\"50%\" y=\"16px\">B</text></svg></svg><line stroke=\"black\" x1=\"50%\" x2=\"50%\" y1=\"19.2px\" y2=\"48px\" /></svg><line stroke=\"black\" x1=\"50%\" x2=\"75%\" y1=\"19.2px\" y2=\"48px\" /></svg><line stroke=\"black\" x1=\"50%\" x2=\"68.75%\" y1=\"19.2px\" y2=\"48px\" /></svg>"
      ],
      "text/plain": [
       "Tree('IMPLIES', [Tree('NOT', [Tree('AND', ['A', 'B'])]), Tree('OR', [Tree('NOT', ['A']), Tree('NOT', ['B'])])])"
      ]
     },
     "execution_count": 13,
     "metadata": {},
     "output_type": "execute_result"
    }
   ],
   "source": [
    "parse_english(\"if not both A and B then either not A or not B\")"
   ]
  },
  {
   "cell_type": "code",
   "execution_count": 14,
   "id": "21449944",
   "metadata": {},
   "outputs": [
    {
     "data": {
      "image/svg+xml": [
       "<svg baseProfile=\"full\" height=\"168px\" preserveAspectRatio=\"xMidYMid meet\" style=\"font-family: times, serif; font-weight: normal; font-style: normal; font-size: 16px;\" version=\"1.1\" viewBox=\"0,0,168.0,168.0\" width=\"168px\" xmlns=\"http://www.w3.org/2000/svg\" xmlns:ev=\"http://www.w3.org/2001/xml-events\" xmlns:xlink=\"http://www.w3.org/1999/xlink\"><defs /><svg width=\"100%\" x=\"0\" y=\"0px\"><defs /><text text-anchor=\"middle\" x=\"50%\" y=\"16px\">IMPLIES</text></svg><svg width=\"42.8571%\" x=\"0%\" y=\"48px\"><defs /><svg width=\"100%\" x=\"0\" y=\"0px\"><defs /><text text-anchor=\"middle\" x=\"50%\" y=\"16px\">AND</text></svg><svg width=\"33.3333%\" x=\"0%\" y=\"48px\"><defs /><svg width=\"100%\" x=\"0\" y=\"0px\"><defs /><text text-anchor=\"middle\" x=\"50%\" y=\"16px\">A</text></svg></svg><line stroke=\"black\" x1=\"50%\" x2=\"16.6667%\" y1=\"19.2px\" y2=\"48px\" /><svg width=\"66.6667%\" x=\"33.3333%\" y=\"48px\"><defs /><svg width=\"100%\" x=\"0\" y=\"0px\"><defs /><text text-anchor=\"middle\" x=\"50%\" y=\"16px\">OR</text></svg><svg width=\"50%\" x=\"0%\" y=\"48px\"><defs /><svg width=\"100%\" x=\"0\" y=\"0px\"><defs /><text text-anchor=\"middle\" x=\"50%\" y=\"16px\">B</text></svg></svg><line stroke=\"black\" x1=\"50%\" x2=\"25%\" y1=\"19.2px\" y2=\"48px\" /><svg width=\"50%\" x=\"50%\" y=\"48px\"><defs /><svg width=\"100%\" x=\"0\" y=\"0px\"><defs /><text text-anchor=\"middle\" x=\"50%\" y=\"16px\">C</text></svg></svg><line stroke=\"black\" x1=\"50%\" x2=\"75%\" y1=\"19.2px\" y2=\"48px\" /></svg><line stroke=\"black\" x1=\"50%\" x2=\"66.6667%\" y1=\"19.2px\" y2=\"48px\" /></svg><line stroke=\"black\" x1=\"50%\" x2=\"21.4286%\" y1=\"19.2px\" y2=\"48px\" /><svg width=\"57.1429%\" x=\"42.8571%\" y=\"48px\"><defs /><svg width=\"100%\" x=\"0\" y=\"0px\"><defs /><text text-anchor=\"middle\" x=\"50%\" y=\"16px\">OR</text></svg><svg width=\"50%\" x=\"0%\" y=\"48px\"><defs /><svg width=\"100%\" x=\"0\" y=\"0px\"><defs /><text text-anchor=\"middle\" x=\"50%\" y=\"16px\">AND</text></svg><svg width=\"50%\" x=\"0%\" y=\"48px\"><defs /><svg width=\"100%\" x=\"0\" y=\"0px\"><defs /><text text-anchor=\"middle\" x=\"50%\" y=\"16px\">A</text></svg></svg><line stroke=\"black\" x1=\"50%\" x2=\"25%\" y1=\"19.2px\" y2=\"48px\" /><svg width=\"50%\" x=\"50%\" y=\"48px\"><defs /><svg width=\"100%\" x=\"0\" y=\"0px\"><defs /><text text-anchor=\"middle\" x=\"50%\" y=\"16px\">B</text></svg></svg><line stroke=\"black\" x1=\"50%\" x2=\"75%\" y1=\"19.2px\" y2=\"48px\" /></svg><line stroke=\"black\" x1=\"50%\" x2=\"25%\" y1=\"19.2px\" y2=\"48px\" /><svg width=\"50%\" x=\"50%\" y=\"48px\"><defs /><svg width=\"100%\" x=\"0\" y=\"0px\"><defs /><text text-anchor=\"middle\" x=\"50%\" y=\"16px\">AND</text></svg><svg width=\"50%\" x=\"0%\" y=\"48px\"><defs /><svg width=\"100%\" x=\"0\" y=\"0px\"><defs /><text text-anchor=\"middle\" x=\"50%\" y=\"16px\">A</text></svg></svg><line stroke=\"black\" x1=\"50%\" x2=\"25%\" y1=\"19.2px\" y2=\"48px\" /><svg width=\"50%\" x=\"50%\" y=\"48px\"><defs /><svg width=\"100%\" x=\"0\" y=\"0px\"><defs /><text text-anchor=\"middle\" x=\"50%\" y=\"16px\">C</text></svg></svg><line stroke=\"black\" x1=\"50%\" x2=\"75%\" y1=\"19.2px\" y2=\"48px\" /></svg><line stroke=\"black\" x1=\"50%\" x2=\"75%\" y1=\"19.2px\" y2=\"48px\" /></svg><line stroke=\"black\" x1=\"50%\" x2=\"71.4286%\" y1=\"19.2px\" y2=\"48px\" /></svg>"
      ],
      "text/plain": [
       "Tree('IMPLIES', [Tree('AND', ['A', Tree('OR', ['B', 'C'])]), Tree('OR', [Tree('AND', ['A', 'B']), Tree('AND', ['A', 'C'])])])"
      ]
     },
     "execution_count": 14,
     "metadata": {},
     "output_type": "execute_result"
    }
   ],
   "source": [
    "parse_english(\"if both A and either B or C then either both A and B or both A and C\")"
   ]
  },
  {
   "cell_type": "code",
   "execution_count": 15,
   "id": "e68f145c",
   "metadata": {},
   "outputs": [],
   "source": [
    "def all_assignments(n):\n",
    "    if n == 0:\n",
    "        return [[]]\n",
    "    all_assign = all_assignments(n-1)\n",
    "    return [[False] + assign  for assign in all_assign] + [[True] + assign for assign in all_assign]\n",
    "\n",
    "def sentence_symbols(exp, logic_symbols):\n",
    "    return sorted(list(set(tokenize_english(exp, logic_symbols)) - set(logic_symbols)))\n",
    "\n",
    "def satisfiable(exp):\n",
    "    logic_symbols = [\"either\", \"or\", \"both\", \"and\", \"not\", \"if\", \"then\"]\n",
    "    sent_sym = sentence_symbols(exp, logic_symbols)\n",
    "    return any(evaluate_aux(parse_english(exp), dict(zip(sent_sym, assign))) for assign in all_assignments(len(sent_sym)))\n",
    "\n",
    "def tautology(exp):\n",
    "    logic_symbols = [\"either\", \"or\", \"both\", \"and\", \"not\", \"if\", \"then\"]\n",
    "    sent_sym = sentence_symbols(exp, logic_symbols)\n",
    "    return all(evaluate_aux(parse_english(exp), dict(zip(sent_sym, assign))) for assign in all_assignments(len(sent_sym)))"
   ]
  },
  {
   "cell_type": "code",
   "execution_count": 16,
   "id": "ae646f86",
   "metadata": {},
   "outputs": [
    {
     "name": "stdout",
     "output_type": "stream",
     "text": [
      "True\n",
      "True\n"
     ]
    }
   ],
   "source": [
    "print(satisfiable(\"if both A and either B or C then either both A and B or both A and C\"))\n",
    "print(tautology(\"if both A and either B or C then either both A and B or both A and C\"))"
   ]
  },
  {
   "cell_type": "code",
   "execution_count": 17,
   "id": "e876eb07",
   "metadata": {},
   "outputs": [
    {
     "name": "stdout",
     "output_type": "stream",
     "text": [
      "False\n",
      "True\n"
     ]
    }
   ],
   "source": [
    "print(satisfiable(\"both A and not A\"))\n",
    "print(tautology(\"if not both A and B then either not A or not B\"))"
   ]
  },
  {
   "cell_type": "code",
   "execution_count": null,
   "id": "8c09eedf",
   "metadata": {},
   "outputs": [],
   "source": []
  },
  {
   "cell_type": "code",
   "execution_count": null,
   "id": "4d1a22c6",
   "metadata": {},
   "outputs": [],
   "source": []
  },
  {
   "cell_type": "code",
   "execution_count": null,
   "id": "285839af",
   "metadata": {},
   "outputs": [],
   "source": []
  },
  {
   "cell_type": "code",
   "execution_count": null,
   "id": "81d8a4ae",
   "metadata": {},
   "outputs": [],
   "source": []
  },
  {
   "cell_type": "code",
   "execution_count": null,
   "id": "3481d29a",
   "metadata": {},
   "outputs": [],
   "source": []
  },
  {
   "cell_type": "code",
   "execution_count": null,
   "id": "914c13d5",
   "metadata": {},
   "outputs": [],
   "source": []
  },
  {
   "cell_type": "code",
   "execution_count": null,
   "id": "5f4d298c",
   "metadata": {},
   "outputs": [],
   "source": []
  },
  {
   "cell_type": "code",
   "execution_count": null,
   "id": "e24f53fa",
   "metadata": {},
   "outputs": [],
   "source": []
  },
  {
   "cell_type": "code",
   "execution_count": null,
   "id": "b2f46f94",
   "metadata": {},
   "outputs": [],
   "source": []
  },
  {
   "cell_type": "code",
   "execution_count": null,
   "id": "9bde566f",
   "metadata": {},
   "outputs": [],
   "source": []
  },
  {
   "cell_type": "code",
   "execution_count": null,
   "id": "36f7738c",
   "metadata": {},
   "outputs": [],
   "source": []
  },
  {
   "cell_type": "raw",
   "id": "3ab06657",
   "metadata": {},
   "source": [
    "expressions:\n",
    "\"if both it is raining and the sun is shining then either there is a rainbow or I am sad\"\n",
    "\"either you are a liar or the capital is to the right\"\n",
    "\n",
    "expressions:\n",
    "( A implies ( B or C ) )\n",
    "( A iff (B and C ))\n",
    "not A or B\n",
    "\n",
    "not applies to as little as possible\n",
    "and / or apply to as little as possible, subject to rule for not"
   ]
  }
 ],
 "metadata": {
  "kernelspec": {
   "display_name": "Python 3 (ipykernel)",
   "language": "python",
   "name": "python3"
  },
  "language_info": {
   "codemirror_mode": {
    "name": "ipython",
    "version": 3
   },
   "file_extension": ".py",
   "mimetype": "text/x-python",
   "name": "python",
   "nbconvert_exporter": "python",
   "pygments_lexer": "ipython3",
   "version": "3.11.9"
  }
 },
 "nbformat": 4,
 "nbformat_minor": 5
}
